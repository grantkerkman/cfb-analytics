{
 "cells": [
  {
   "cell_type": "code",
   "execution_count": null,
   "id": "e852c26e",
   "metadata": {},
   "outputs": [],
   "source": [
    "# Import dependencies\n",
    "import pandas as pd\n",
    "import numpy as np\n",
    "import sqlite3"
   ]
  },
  {
   "cell_type": "code",
   "execution_count": null,
   "id": "551597b6",
   "metadata": {},
   "outputs": [],
   "source": [
    "# Read in csv files\n",
    "offense_df = pd.read_csv(\"resources/offense.csv\")\n",
    "defense_df = pd.read_csv(\"resources/defense.csv\")"
   ]
  },
  {
   "cell_type": "code",
   "execution_count": null,
   "id": "8cb8070a",
   "metadata": {},
   "outputs": [],
   "source": [
    "# Preview the first five rows of the offense dataset\n",
    "offense_df.head()"
   ]
  },
  {
   "cell_type": "code",
   "execution_count": null,
   "id": "738dfc9f",
   "metadata": {},
   "outputs": [],
   "source": [
    "# Preview the first five rows of the defense dataset\n",
    "defense_df.head()"
   ]
  },
  {
   "cell_type": "code",
   "execution_count": null,
   "id": "264b5723",
   "metadata": {},
   "outputs": [],
   "source": [
    "# Drop rows where all columns are NaN\n",
    "offense_df = offense_df.dropna(how='all')\n",
    "defense_df = defense_df.dropna(how='all')"
   ]
  },
  {
   "cell_type": "code",
   "execution_count": null,
   "id": "9244098a",
   "metadata": {},
   "outputs": [],
   "source": [
    "# Inspect the information of the dataset (offense and defense should be the same)\n",
    "offense_df.info()"
   ]
  },
  {
   "cell_type": "code",
   "execution_count": null,
   "id": "5243c72b",
   "metadata": {},
   "outputs": [],
   "source": [
    "# Split the record apart and create columns for points for, against, diff, and outcome\n",
    "dataframes = [offense_df, defense_df]\n",
    "\n",
    "for dataframe in dataframes:\n",
    "    \n",
    "    dataframe[['outcome', 'col1']] = dataframe['score'].str.split(\" \", expand=True)\n",
    "    dataframe['col1'] = dataframe['col1'].str.replace(r\"\\(\", \"\", regex=True)\n",
    "    dataframe['col1'] = dataframe['col1'].str.replace(r\"\\)\", \"\", regex=True)\n",
    "    dataframe[['points_for', 'points_against']] = dataframe['col1'].str.split(\"-\", expand=True)\n",
    "    dataframe.drop('col1', axis=1, inplace=True)\n",
    "    \n",
    "defense_df"
   ]
  },
  {
   "cell_type": "code",
   "execution_count": null,
   "id": "736e641a",
   "metadata": {},
   "outputs": [],
   "source": [
    "# Fill in the Home/Away information\n",
    "dataframes = [offense_df, defense_df]\n",
    "\n",
    "for dataframe in dataframes:\n",
    "    \n",
    "    dataframe['home_away'] = dataframe['home_away'].fillna('home')\n",
    "    dataframe['home_away'] = dataframe['home_away'].str.replace('@', 'away')"
   ]
  },
  {
   "cell_type": "code",
   "execution_count": null,
   "id": "495f03e4",
   "metadata": {},
   "outputs": [],
   "source": [
    "# Investigate the dtypes (offense and defense will be indentical)\n",
    "offense_df.dtypes"
   ]
  },
  {
   "cell_type": "code",
   "execution_count": null,
   "id": "4772ff48",
   "metadata": {
    "scrolled": true
   },
   "outputs": [],
   "source": [
    "# Convert dtypes by creating lists for columns to convert to integers and floating points\n",
    "columns_to_int = ['passing_cmp', 'passing_att','passing_yds', 'passing_td', 'rushing_att', \n",
    "                  'rushing_yds', 'rushing_td', 'total_plays', 'total_yds', 'first_down_pass', \n",
    "                  'first_down_rush', 'first_down_pen','first_down_total', 'penalties', 'penalty_yds', \n",
    "                  'fumbles','intceptions', 'turnovers', 'points_for', 'points_against']\n",
    "\n",
    "columns_to_float = ['passing_pct', 'rushing_avg', 'total_avg']\n",
    "\n",
    "dataframes = [offense_df, defense_df]\n",
    "\n",
    "for dataframe in dataframes:\n",
    "\n",
    "    # Convert to numeric values (float) to handle any errors\n",
    "    dataframe[columns_to_int] = dataframe[columns_to_int].apply(pd.to_numeric, errors='coerce')\n",
    "    dataframe[columns_to_float] = dataframe[columns_to_float].apply(pd.to_numeric, errors='coerce')\n",
    "\n",
    "    # Convert the integer columns\n",
    "    dataframe[columns_to_int] = dataframe[columns_to_int].astype(float).astype(pd.Int64Dtype())\n",
    "\n",
    "    # Convet the date to datetime using the to_datetime method\n",
    "    dataframe['date'] = pd.to_datetime(dataframe['date'])"
   ]
  },
  {
   "cell_type": "code",
   "execution_count": null,
   "id": "9f804429",
   "metadata": {},
   "outputs": [],
   "source": [
    "# Confirm that the dataset is ready for loading\n",
    "offense_df.info()"
   ]
  },
  {
   "cell_type": "code",
   "execution_count": null,
   "id": "2b8bf204",
   "metadata": {},
   "outputs": [],
   "source": [
    "# Confirm that the dataset is ready for loading\n",
    "defense_df.info()"
   ]
  },
  {
   "cell_type": "code",
   "execution_count": null,
   "id": "072f8214",
   "metadata": {},
   "outputs": [],
   "source": [
    "# Drop the two rows that do not have complete statistics\n",
    "offense_df = offense_df.dropna(axis=0)\n",
    "defense_df = defense_df.dropna(axis=0)"
   ]
  },
  {
   "cell_type": "code",
   "execution_count": null,
   "id": "7ffbc474",
   "metadata": {},
   "outputs": [],
   "source": [
    "# Final confirmation of data cleaning operations\n",
    "offense_df.info()"
   ]
  },
  {
   "cell_type": "code",
   "execution_count": null,
   "id": "f3033643",
   "metadata": {},
   "outputs": [],
   "source": [
    "# Final confirmation of data cleaning operations\n",
    "defense_df.info()"
   ]
  },
  {
   "cell_type": "code",
   "execution_count": null,
   "id": "f9b42217",
   "metadata": {},
   "outputs": [],
   "source": [
    "# User input: What school is being analyzed?\n",
    "school = input(f'What School is this analyzing? ')\n",
    "\n",
    "# Output the cleaned datasets to a .csv\n",
    "offense_df.to_csv(f'output/{school}_offense.csv', index=False)\n",
    "defense_df.to_csv(f'output/{school}_defense.csv', index=False)\n",
    "\n",
    "# Export to SQLite database\n",
    "off_table = f'{school}_offense'\n",
    "def_table = f'{school}_defense'\n",
    "\n",
    "# Connect to SQLite database\n",
    "conn = sqlite3.connect('output/cfb.db')\n",
    "cursor = conn.cursor()\n",
    "\n",
    "# Write DataFrame to SQLite database\n",
    "offense_df.to_sql(off_table, conn, if_exists='replace', index=False)\n",
    "defense_df.to_sql(def_table, conn, if_exists='replace', index=False)\n",
    "\n",
    "# Commit changes and close the connection\n",
    "conn.commit()\n",
    "conn.close()"
   ]
  }
 ],
 "metadata": {
  "kernelspec": {
   "display_name": "Python 3 (ipykernel)",
   "language": "python",
   "name": "python3"
  },
  "language_info": {
   "codemirror_mode": {
    "name": "ipython",
    "version": 3
   },
   "file_extension": ".py",
   "mimetype": "text/x-python",
   "name": "python",
   "nbconvert_exporter": "python",
   "pygments_lexer": "ipython3",
   "version": "3.10.9"
  }
 },
 "nbformat": 4,
 "nbformat_minor": 5
}
