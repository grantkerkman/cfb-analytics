{
 "cells": [
  {
   "cell_type": "code",
   "execution_count": null,
   "id": "e852c26e",
   "metadata": {},
   "outputs": [],
   "source": [
    "# Import dependencies\n",
    "import pandas as pd\n",
    "import numpy as np\n",
    "import sqlite3"
   ]
  },
  {
   "cell_type": "code",
   "execution_count": null,
   "id": "551597b6",
   "metadata": {},
   "outputs": [],
   "source": [
    "# Read in csv files\n",
    "standings_df = pd.read_csv(\"../resources/standings.csv\")"
   ]
  },
  {
   "cell_type": "code",
   "execution_count": null,
   "id": "8cb8070a",
   "metadata": {},
   "outputs": [],
   "source": [
    "# Preview the first five rows of the offense dataset\n",
    "standings_df.head()"
   ]
  },
  {
   "cell_type": "code",
   "execution_count": null,
   "id": "a7d1e16f",
   "metadata": {},
   "outputs": [],
   "source": [
    "# Get basic information on the dataset\n",
    "standings_df.info()"
   ]
  },
  {
   "cell_type": "code",
   "execution_count": null,
   "id": "10f2be92",
   "metadata": {},
   "outputs": [],
   "source": [
    "# print the columns to drop all the Poll related columns\n",
    "standings_df.columns"
   ]
  },
  {
   "cell_type": "code",
   "execution_count": null,
   "id": "738dfc9f",
   "metadata": {},
   "outputs": [],
   "source": [
    "# Drop all the Polls related columns\n",
    "columns_to_drop = ['ap_pre', 'ap_high', 'ap_post', 'notes']\n",
    "standings_df.drop(columns=columns_to_drop, inplace=True)"
   ]
  },
  {
   "cell_type": "code",
   "execution_count": null,
   "id": "264b5723",
   "metadata": {},
   "outputs": [],
   "source": [
    "# Get basic information on the dataset\n",
    "standings_df.info()"
   ]
  },
  {
   "cell_type": "code",
   "execution_count": null,
   "id": "1c367dc3",
   "metadata": {},
   "outputs": [],
   "source": [
    "# Drop columns based on the winning_pct\n",
    "    # Further investigation of the data shows that the independent conferences\n",
    "    # will not have conference schedules and the restricting column should be winning_pct\n",
    "\n",
    "column_to_check = 'winning_pct'\n",
    "standings_df = standings_df.dropna(subset=[column_to_check])"
   ]
  },
  {
   "cell_type": "code",
   "execution_count": null,
   "id": "009a1805",
   "metadata": {},
   "outputs": [],
   "source": [
    "# Convert the year to datetime\n",
    "standings_df['year'] = pd.to_datetime(standings_df['year'])"
   ]
  },
  {
   "cell_type": "code",
   "execution_count": null,
   "id": "4ac0897e",
   "metadata": {},
   "outputs": [],
   "source": [
    "# Final confirmation that data can be loaded\n",
    "standings_df.info()"
   ]
  },
  {
   "cell_type": "code",
   "execution_count": null,
   "id": "f9b42217",
   "metadata": {},
   "outputs": [],
   "source": [
    "# Output the cleaned datasets to a .csv\n",
    "standings_df.to_csv('../output/standings.csv', index=False)\n",
    "\n",
    "# Connect to SQLite database\n",
    "conn = sqlite3.connect('../output/cfb.db')\n",
    "cursor = conn.cursor()\n",
    "\n",
    "# Write DataFrame to SQLite database\n",
    "standings_df.to_sql('standings', conn, if_exists='replace', index=False)\n",
    "\n",
    "# Commit changes and close the connection\n",
    "conn.commit()\n",
    "conn.close()"
   ]
  },
  {
   "cell_type": "code",
   "execution_count": null,
   "id": "9f6d9506",
   "metadata": {},
   "outputs": [],
   "source": []
  }
 ],
 "metadata": {
  "kernelspec": {
   "display_name": "Python 3 (ipykernel)",
   "language": "python",
   "name": "python3"
  },
  "language_info": {
   "codemirror_mode": {
    "name": "ipython",
    "version": 3
   },
   "file_extension": ".py",
   "mimetype": "text/x-python",
   "name": "python",
   "nbconvert_exporter": "python",
   "pygments_lexer": "ipython3",
   "version": "3.10.9"
  }
 },
 "nbformat": 4,
 "nbformat_minor": 5
}
