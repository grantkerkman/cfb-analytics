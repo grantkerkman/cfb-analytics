{
 "cells": [
  {
   "cell_type": "code",
   "execution_count": 1,
   "id": "e852c26e",
   "metadata": {},
   "outputs": [],
   "source": [
    "# Import dependencies\n",
    "import pandas as pd\n",
    "import numpy as np\n",
    "import sqlite3"
   ]
  },
  {
   "cell_type": "code",
   "execution_count": 2,
   "id": "551597b6",
   "metadata": {},
   "outputs": [],
   "source": [
    "# Read in csv files\n",
    "standings_df = pd.read_csv(\"../resources/standings.csv\")"
   ]
  },
  {
   "cell_type": "code",
   "execution_count": 3,
   "id": "8cb8070a",
   "metadata": {},
   "outputs": [
    {
     "data": {
      "text/html": [
       "<div>\n",
       "<style scoped>\n",
       "    .dataframe tbody tr th:only-of-type {\n",
       "        vertical-align: middle;\n",
       "    }\n",
       "\n",
       "    .dataframe tbody tr th {\n",
       "        vertical-align: top;\n",
       "    }\n",
       "\n",
       "    .dataframe thead th {\n",
       "        text-align: right;\n",
       "    }\n",
       "</style>\n",
       "<table border=\"1\" class=\"dataframe\">\n",
       "  <thead>\n",
       "    <tr style=\"text-align: right;\">\n",
       "      <th></th>\n",
       "      <th>year</th>\n",
       "      <th>school</th>\n",
       "      <th>conference</th>\n",
       "      <th>wins</th>\n",
       "      <th>losses</th>\n",
       "      <th>winning_pct</th>\n",
       "      <th>conf_wins</th>\n",
       "      <th>conf_losses</th>\n",
       "      <th>conf_winning_pct</th>\n",
       "      <th>ppg_offence</th>\n",
       "      <th>ppg_defence</th>\n",
       "      <th>SRS</th>\n",
       "      <th>SOS</th>\n",
       "      <th>ap_pre</th>\n",
       "      <th>ap_high</th>\n",
       "      <th>ap_post</th>\n",
       "      <th>notes</th>\n",
       "    </tr>\n",
       "  </thead>\n",
       "  <tbody>\n",
       "    <tr>\n",
       "      <th>0</th>\n",
       "      <td>2000</td>\n",
       "      <td>Florida State</td>\n",
       "      <td>ACC</td>\n",
       "      <td>11.0</td>\n",
       "      <td>2.0</td>\n",
       "      <td>0.846</td>\n",
       "      <td>8.0</td>\n",
       "      <td>0.0</td>\n",
       "      <td>1.000</td>\n",
       "      <td>39.3</td>\n",
       "      <td>10.5</td>\n",
       "      <td>23.13</td>\n",
       "      <td>5.59</td>\n",
       "      <td>2.0</td>\n",
       "      <td>1.0</td>\n",
       "      <td>5.0</td>\n",
       "      <td>NaN</td>\n",
       "    </tr>\n",
       "    <tr>\n",
       "      <th>1</th>\n",
       "      <td>2000</td>\n",
       "      <td>Clemson</td>\n",
       "      <td>ACC</td>\n",
       "      <td>9.0</td>\n",
       "      <td>3.0</td>\n",
       "      <td>0.750</td>\n",
       "      <td>6.0</td>\n",
       "      <td>2.0</td>\n",
       "      <td>0.750</td>\n",
       "      <td>34.7</td>\n",
       "      <td>21.1</td>\n",
       "      <td>11.54</td>\n",
       "      <td>2.04</td>\n",
       "      <td>17.0</td>\n",
       "      <td>5.0</td>\n",
       "      <td>16.0</td>\n",
       "      <td>NaN</td>\n",
       "    </tr>\n",
       "    <tr>\n",
       "      <th>2</th>\n",
       "      <td>2000</td>\n",
       "      <td>Georgia Tech</td>\n",
       "      <td>ACC</td>\n",
       "      <td>9.0</td>\n",
       "      <td>3.0</td>\n",
       "      <td>0.750</td>\n",
       "      <td>6.0</td>\n",
       "      <td>2.0</td>\n",
       "      <td>0.750</td>\n",
       "      <td>32.2</td>\n",
       "      <td>19.8</td>\n",
       "      <td>11.30</td>\n",
       "      <td>1.21</td>\n",
       "      <td>NaN</td>\n",
       "      <td>15.0</td>\n",
       "      <td>17.0</td>\n",
       "      <td>NaN</td>\n",
       "    </tr>\n",
       "    <tr>\n",
       "      <th>3</th>\n",
       "      <td>2000</td>\n",
       "      <td>Virginia</td>\n",
       "      <td>ACC</td>\n",
       "      <td>6.0</td>\n",
       "      <td>6.0</td>\n",
       "      <td>0.500</td>\n",
       "      <td>5.0</td>\n",
       "      <td>3.0</td>\n",
       "      <td>0.625</td>\n",
       "      <td>20.2</td>\n",
       "      <td>24.3</td>\n",
       "      <td>0.10</td>\n",
       "      <td>3.18</td>\n",
       "      <td>NaN</td>\n",
       "      <td>NaN</td>\n",
       "      <td>NaN</td>\n",
       "      <td>NaN</td>\n",
       "    </tr>\n",
       "    <tr>\n",
       "      <th>4</th>\n",
       "      <td>2000</td>\n",
       "      <td>North Carolina State</td>\n",
       "      <td>ACC</td>\n",
       "      <td>8.0</td>\n",
       "      <td>4.0</td>\n",
       "      <td>0.667</td>\n",
       "      <td>4.0</td>\n",
       "      <td>4.0</td>\n",
       "      <td>0.500</td>\n",
       "      <td>31.6</td>\n",
       "      <td>28.2</td>\n",
       "      <td>3.92</td>\n",
       "      <td>-0.33</td>\n",
       "      <td>NaN</td>\n",
       "      <td>21.0</td>\n",
       "      <td>NaN</td>\n",
       "      <td>NaN</td>\n",
       "    </tr>\n",
       "  </tbody>\n",
       "</table>\n",
       "</div>"
      ],
      "text/plain": [
       "   year                school conference  wins  losses  winning_pct  \\\n",
       "0  2000         Florida State        ACC  11.0     2.0        0.846   \n",
       "1  2000               Clemson        ACC   9.0     3.0        0.750   \n",
       "2  2000          Georgia Tech        ACC   9.0     3.0        0.750   \n",
       "3  2000              Virginia        ACC   6.0     6.0        0.500   \n",
       "4  2000  North Carolina State        ACC   8.0     4.0        0.667   \n",
       "\n",
       "   conf_wins  conf_losses  conf_winning_pct  ppg_offence  ppg_defence    SRS  \\\n",
       "0        8.0          0.0             1.000         39.3         10.5  23.13   \n",
       "1        6.0          2.0             0.750         34.7         21.1  11.54   \n",
       "2        6.0          2.0             0.750         32.2         19.8  11.30   \n",
       "3        5.0          3.0             0.625         20.2         24.3   0.10   \n",
       "4        4.0          4.0             0.500         31.6         28.2   3.92   \n",
       "\n",
       "    SOS  ap_pre  ap_high  ap_post notes  \n",
       "0  5.59     2.0      1.0      5.0   NaN  \n",
       "1  2.04    17.0      5.0     16.0   NaN  \n",
       "2  1.21     NaN     15.0     17.0   NaN  \n",
       "3  3.18     NaN      NaN      NaN   NaN  \n",
       "4 -0.33     NaN     21.0      NaN   NaN  "
      ]
     },
     "execution_count": 3,
     "metadata": {},
     "output_type": "execute_result"
    }
   ],
   "source": [
    "# Preview the first five rows of the offense dataset\n",
    "standings_df.head()"
   ]
  },
  {
   "cell_type": "code",
   "execution_count": 4,
   "id": "a7d1e16f",
   "metadata": {},
   "outputs": [
    {
     "name": "stdout",
     "output_type": "stream",
     "text": [
      "<class 'pandas.core.frame.DataFrame'>\n",
      "RangeIndex: 3323 entries, 0 to 3322\n",
      "Data columns (total 17 columns):\n",
      " #   Column            Non-Null Count  Dtype  \n",
      "---  ------            --------------  -----  \n",
      " 0   year              3323 non-null   int64  \n",
      " 1   school            2837 non-null   object \n",
      " 2   conference        2837 non-null   object \n",
      " 3   wins              2837 non-null   float64\n",
      " 4   losses            2837 non-null   float64\n",
      " 5   winning_pct       2835 non-null   float64\n",
      " 6   conf_wins         2724 non-null   float64\n",
      " 7   conf_losses       2724 non-null   float64\n",
      " 8   conf_winning_pct  2724 non-null   float64\n",
      " 9   ppg_offence       2835 non-null   float64\n",
      " 10  ppg_defence       2835 non-null   float64\n",
      " 11  SRS               2835 non-null   float64\n",
      " 12  SOS               2835 non-null   float64\n",
      " 13  ap_pre            575 non-null    float64\n",
      " 14  ap_high           1050 non-null   float64\n",
      " 15  ap_post           575 non-null    float64\n",
      " 16  notes             32 non-null     object \n",
      "dtypes: float64(13), int64(1), object(3)\n",
      "memory usage: 441.5+ KB\n"
     ]
    }
   ],
   "source": [
    "# Get basic information on the dataset\n",
    "standings_df.info()"
   ]
  },
  {
   "cell_type": "code",
   "execution_count": 5,
   "id": "10f2be92",
   "metadata": {},
   "outputs": [
    {
     "data": {
      "text/plain": [
       "Index(['year', 'school', 'conference', 'wins', 'losses', 'winning_pct',\n",
       "       'conf_wins', 'conf_losses', 'conf_winning_pct', 'ppg_offence',\n",
       "       'ppg_defence', 'SRS', 'SOS', 'ap_pre', 'ap_high', 'ap_post', 'notes'],\n",
       "      dtype='object')"
      ]
     },
     "execution_count": 5,
     "metadata": {},
     "output_type": "execute_result"
    }
   ],
   "source": [
    "# print the columns to drop all the Poll related columns\n",
    "standings_df.columns"
   ]
  },
  {
   "cell_type": "code",
   "execution_count": 6,
   "id": "738dfc9f",
   "metadata": {},
   "outputs": [],
   "source": [
    "# Drop all the Polls related columns\n",
    "columns_to_drop = ['ap_pre', 'ap_high', 'ap_post', 'notes']\n",
    "standings_df.drop(columns=columns_to_drop, inplace=True)"
   ]
  },
  {
   "cell_type": "code",
   "execution_count": 7,
   "id": "264b5723",
   "metadata": {},
   "outputs": [
    {
     "name": "stdout",
     "output_type": "stream",
     "text": [
      "<class 'pandas.core.frame.DataFrame'>\n",
      "RangeIndex: 3323 entries, 0 to 3322\n",
      "Data columns (total 13 columns):\n",
      " #   Column            Non-Null Count  Dtype  \n",
      "---  ------            --------------  -----  \n",
      " 0   year              3323 non-null   int64  \n",
      " 1   school            2837 non-null   object \n",
      " 2   conference        2837 non-null   object \n",
      " 3   wins              2837 non-null   float64\n",
      " 4   losses            2837 non-null   float64\n",
      " 5   winning_pct       2835 non-null   float64\n",
      " 6   conf_wins         2724 non-null   float64\n",
      " 7   conf_losses       2724 non-null   float64\n",
      " 8   conf_winning_pct  2724 non-null   float64\n",
      " 9   ppg_offence       2835 non-null   float64\n",
      " 10  ppg_defence       2835 non-null   float64\n",
      " 11  SRS               2835 non-null   float64\n",
      " 12  SOS               2835 non-null   float64\n",
      "dtypes: float64(10), int64(1), object(2)\n",
      "memory usage: 337.6+ KB\n"
     ]
    }
   ],
   "source": [
    "# Get basic information on the dataset\n",
    "standings_df.info()"
   ]
  },
  {
   "cell_type": "code",
   "execution_count": 8,
   "id": "1c367dc3",
   "metadata": {},
   "outputs": [],
   "source": [
    "# Drop columns based on the winning_pct\n",
    "    # Further investigation of the data shows that the independent conferences\n",
    "    # will not have conference schedules and the restricting column should be winning_pct\n",
    "\n",
    "column_to_check = 'winning_pct'\n",
    "standings_df = standings_df.dropna(subset=[column_to_check])"
   ]
  },
  {
   "cell_type": "code",
   "execution_count": 10,
   "id": "009a1805",
   "metadata": {},
   "outputs": [],
   "source": [
    "# Convert the year to datetime\n",
    "standings_df['year'] = pd.to_datetime(standings_df['year'], format='%Y').dt.year"
   ]
  },
  {
   "cell_type": "code",
   "execution_count": 11,
   "id": "4ac0897e",
   "metadata": {},
   "outputs": [
    {
     "name": "stdout",
     "output_type": "stream",
     "text": [
      "<class 'pandas.core.frame.DataFrame'>\n",
      "Int64Index: 2835 entries, 0 to 3322\n",
      "Data columns (total 13 columns):\n",
      " #   Column            Non-Null Count  Dtype  \n",
      "---  ------            --------------  -----  \n",
      " 0   year              2835 non-null   int64  \n",
      " 1   school            2835 non-null   object \n",
      " 2   conference        2835 non-null   object \n",
      " 3   wins              2835 non-null   float64\n",
      " 4   losses            2835 non-null   float64\n",
      " 5   winning_pct       2835 non-null   float64\n",
      " 6   conf_wins         2724 non-null   float64\n",
      " 7   conf_losses       2724 non-null   float64\n",
      " 8   conf_winning_pct  2724 non-null   float64\n",
      " 9   ppg_offence       2835 non-null   float64\n",
      " 10  ppg_defence       2835 non-null   float64\n",
      " 11  SRS               2835 non-null   float64\n",
      " 12  SOS               2835 non-null   float64\n",
      "dtypes: float64(10), int64(1), object(2)\n",
      "memory usage: 310.1+ KB\n"
     ]
    }
   ],
   "source": [
    "# Final confirmation that data can be loaded\n",
    "standings_df.info()"
   ]
  },
  {
   "cell_type": "code",
   "execution_count": 12,
   "id": "f9b42217",
   "metadata": {},
   "outputs": [],
   "source": [
    "# Output the cleaned datasets to a .csv\n",
    "standings_df.to_csv('../output/standings.csv', index=False)\n",
    "\n",
    "# Connect to SQLite database\n",
    "conn = sqlite3.connect('../output/cfb.db')\n",
    "cursor = conn.cursor()\n",
    "\n",
    "# Write DataFrame to SQLite database\n",
    "standings_df.to_sql('standings', conn, if_exists='replace', index=False)\n",
    "\n",
    "# Commit changes and close the connection\n",
    "conn.commit()\n",
    "conn.close()"
   ]
  },
  {
   "cell_type": "code",
   "execution_count": null,
   "id": "9f6d9506",
   "metadata": {},
   "outputs": [],
   "source": []
  }
 ],
 "metadata": {
  "kernelspec": {
   "display_name": "Python 3 (ipykernel)",
   "language": "python",
   "name": "python3"
  },
  "language_info": {
   "codemirror_mode": {
    "name": "ipython",
    "version": 3
   },
   "file_extension": ".py",
   "mimetype": "text/x-python",
   "name": "python",
   "nbconvert_exporter": "python",
   "pygments_lexer": "ipython3",
   "version": "3.10.9"
  }
 },
 "nbformat": 4,
 "nbformat_minor": 5
}
